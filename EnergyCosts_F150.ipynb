{
 "cells": [
  {
   "cell_type": "code",
   "execution_count": null,
   "id": "525a6fb0",
   "metadata": {},
   "outputs": [],
   "source": [
    "# $Comparison of ICE vs EV Fuel costs-\n",
    "# F150 fuel economy-15L/100km combine (fuel tank capacity is 87l)\n",
    "# Gasoline $1.91/L=$28.65 per 100km, gasoline $2.40/L=$36\n",
    "# EV range SR-370km-98 kWh, . ER 515km-131kWh \n",
    "# Alberta cost per kWh-$2.88c, so 131kWh x $0.288=$37.72 in energy for 515km, or $28.22 for 370km, \n",
    "# max claimed range is 370/515km\n",
    "# 515km/15L/km=77.25, 77.25x$1.91=$147.54 in fuel cost for 515km, but range of gasoline vehicle could be 580km\n",
    "# Not sure if this is correct, just some simple calcs I did on the existing F150 and EV-Brad\n"
   ]
  },
  {
   "cell_type": "code",
   "execution_count": 127,
   "id": "f7ac22b3",
   "metadata": {},
   "outputs": [],
   "source": [
    "#variables\n",
    "\n",
    "#F150 gasoline\n",
    "gasoline_price = 2.40 #$/L\n",
    "diesel_price = 2.21 #$/L\n",
    "vehicle_fuel_capacity = 87 #L\n",
    "cost_of_driving_100km_ice = 99999\n",
    "fuel_consumption_per_100km = 15.0\n",
    "litres_per_100km = 100.0\n",
    "\n",
    "#F150 Lightning EV\n",
    "kWh_cost = 0.288 #c/kWh\n",
    "batterey_capacity = 98 #kWh\n",
    "ev_efficiency = 30 #kWh per 100km\n",
    "kWh_per_100km = 100\n",
    "cost_of_driving_100km_ev = 9999\n",
    "\n",
    "#Annual mileage\n",
    "yearly_distance = 20000.0\n",
    "\n"
   ]
  },
  {
   "cell_type": "code",
   "execution_count": 98,
   "id": "a91019ab",
   "metadata": {},
   "outputs": [
    {
     "name": "stdout",
     "output_type": "stream",
     "text": [
      "The cost of fuel is $ 208.79999999999998\n"
     ]
    }
   ],
   "source": [
    "#cost to fuel/charge vehicle\n",
    "cost_to_fuel_vehicle = vehicle_fuel_capacity * gasoline_price\n",
    "print('The cost of fuel is $', cost_to_fuel_vehicle)\n"
   ]
  },
  {
   "cell_type": "code",
   "execution_count": 122,
   "id": "5d9a9249",
   "metadata": {},
   "outputs": [
    {
     "name": "stdout",
     "output_type": "stream",
     "text": [
      "The cost of charging is $ 28.223999999999997\n"
     ]
    }
   ],
   "source": [
    "#cost to charge vehicle\n",
    "cost_to_charge_vehicle = batterey_capacity * kWh_cost \n",
    "print('The cost of charging is $', cost_to_charge_vehicle)"
   ]
  },
  {
   "cell_type": "code",
   "execution_count": 123,
   "id": "de14c2fd",
   "metadata": {},
   "outputs": [
    {
     "name": "stdout",
     "output_type": "stream",
     "text": [
      "The annual cost of ICE driving is $ 7200.0\n"
     ]
    }
   ],
   "source": [
    "#cost to drive vehicle yearly ICE\n",
    "annual_cost_to_drive_ice = gasoline_price * ((yearly_distance / litres_per_km) * fuel_consumption_per_100km)\n",
    "print('The annual cost of ICE driving is $', annual_cost_to_drive_ice)\n"
   ]
  },
  {
   "cell_type": "code",
   "execution_count": 124,
   "id": "83e17df0",
   "metadata": {},
   "outputs": [
    {
     "name": "stdout",
     "output_type": "stream",
     "text": [
      "The annual cost of EV driving is $ 1658.8799999999999\n"
     ]
    }
   ],
   "source": [
    "#cost to drive vehicle yearly EV test\n",
    "annual_cost_to_drive_ev1 = kWh_cost * ((yearly_distance / batterey_capacity) * cost_to_charge_vehicle)\n",
    "print('The annual cost of EV driving is $',annual_cost_to_drive_ev1)\n"
   ]
  },
  {
   "cell_type": "code",
   "execution_count": 125,
   "id": "fb89dc33",
   "metadata": {},
   "outputs": [
    {
     "name": "stdout",
     "output_type": "stream",
     "text": [
      "The annual cost of EV driving is $ 1727.9999999999998\n"
     ]
    }
   ],
   "source": [
    "#cost to drive vehicle yearly EV via efficiency\n",
    "annual_cost_to_drive_ev2 = kWh_cost * (ev_efficiency * (yearly_distance /  100.0))\n",
    "print('The annual cost of EV driving is $',annual_cost_to_drive_ev2)"
   ]
  },
  {
   "cell_type": "code",
   "execution_count": 126,
   "id": "91c17bb6",
   "metadata": {},
   "outputs": [
    {
     "name": "stdout",
     "output_type": "stream",
     "text": [
      "Range of ICE vehicle 580.0 km\n"
     ]
    }
   ],
   "source": [
    "#range of ICE vehicle\n",
    "range_of_ICE_vehicle = (vehicle_fuel_capacity * litres_per_100km) / fuel_consumption_per_100km\n",
    "print('Range of ICE vehicle', range_of_ICE_vehicle,'km')"
   ]
  },
  {
   "cell_type": "code",
   "execution_count": 132,
   "id": "ebc5657b",
   "metadata": {},
   "outputs": [
    {
     "name": "stdout",
     "output_type": "stream",
     "text": [
      "range_of_EV_vehiclekm 326.6666666666667 km\n"
     ]
    }
   ],
   "source": [
    "#range of EV vehicle\n",
    "range_of_EV_vehicle = (batterey_capacity / ev_efficiency) * kWh_per_100km\n",
    "print('range_of_EV_vehicle' 'km', range_of_EV_vehicle,'km')"
   ]
  }
 ],
 "metadata": {
  "kernelspec": {
   "display_name": "Python 3 (ipykernel)",
   "language": "python",
   "name": "python3"
  },
  "language_info": {
   "codemirror_mode": {
    "name": "ipython",
    "version": 3
   },
   "file_extension": ".py",
   "mimetype": "text/x-python",
   "name": "python",
   "nbconvert_exporter": "python",
   "pygments_lexer": "ipython3",
   "version": "3.9.7"
  }
 },
 "nbformat": 4,
 "nbformat_minor": 5
}
