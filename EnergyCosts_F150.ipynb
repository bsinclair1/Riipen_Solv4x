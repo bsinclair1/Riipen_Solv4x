{
 "cells": [
  {
   "cell_type": "code",
   "execution_count": 134,
   "id": "525a6fb0",
   "metadata": {},
   "outputs": [],
   "source": [
    "# $Comparison of ICE vs EV Fuel costs-"
   ]
  },
  {
   "cell_type": "code",
   "execution_count": 145,
   "id": "e00461d9",
   "metadata": {},
   "outputs": [],
   "source": [
    "import requests\n",
    "import pandas as pd\n",
    "from datetime import datetime\n",
    "import matplotlib.pyplot as plt\n",
    "import matplotlib.dates as mdates\n",
    "from matplotlib.dates import DateFormatter\n",
    "%matplotlib inline"
   ]
  },
  {
   "cell_type": "code",
   "execution_count": 180,
   "id": "f7ac22b3",
   "metadata": {},
   "outputs": [],
   "source": [
    "#variables\n",
    "\n",
    "#currency\n",
    "dollars = 1\n",
    "\n",
    "#F150 gasoline\n",
    "gasoline_price = 2.27 #$/L CAD\n",
    "diesel_price = 2.45 #$/L CAD\n",
    "vehicle_fuel_capacity = 87 #L\n",
    "cost_of_driving_100km_ice = 99999\n",
    "fuel_consumption_per_100km = 14 #L/100km\n",
    "fuel_consumption_per_100km_diesel = 13.6\n",
    "litres_per_100km = 16\n",
    "\n",
    "#F150 Lightning EV\n",
    "kWh_cost = 0.14 #c/kWh\n",
    "batterey_capacity = 98 #kWh\n",
    "ev_efficiency = 30.6 #kWh per 100km\n",
    "kWh_per_100km = 100\n",
    "cost_of_driving_100km_ev = 9999\n",
    "\n",
    "#Annual mileage\n",
    "yearly_distance = 50000.0\n",
    "\n"
   ]
  },
  {
   "cell_type": "code",
   "execution_count": 181,
   "id": "a91019ab",
   "metadata": {},
   "outputs": [
    {
     "name": "stdout",
     "output_type": "stream",
     "text": [
      "The cost of one tank of fuel is $ 197.49\n"
     ]
    }
   ],
   "source": [
    "#cost to fuel/charge vehicle\n",
    "cost_to_fuel_vehicle = vehicle_fuel_capacity * gasoline_price\n",
    "print('The cost of one tank of fuel is $', cost_to_fuel_vehicle)\n"
   ]
  },
  {
   "cell_type": "code",
   "execution_count": 182,
   "id": "5d9a9249",
   "metadata": {},
   "outputs": [
    {
     "name": "stdout",
     "output_type": "stream",
     "text": [
      "The cost of charging is $ 13.72\n"
     ]
    }
   ],
   "source": [
    "#cost to charge vehicle, not including fees, distribution charges etc\n",
    "cost_to_charge_vehicle = batterey_capacity * kWh_cost \n",
    "print('The cost of charging is $', cost_to_charge_vehicle)"
   ]
  },
  {
   "cell_type": "code",
   "execution_count": 183,
   "id": "de14c2fd",
   "metadata": {},
   "outputs": [
    {
     "name": "stdout",
     "output_type": "stream",
     "text": [
      "The annual cost of ICE-Gas driving is $ 15890.0\n"
     ]
    }
   ],
   "source": [
    "#cost to drive vehicle yearly ICE-F150 gasoline\n",
    "annual_cost_to_drive_ice = gasoline_price * ((yearly_distance / 100) * fuel_consumption_per_100km)\n",
    "print('The annual cost of ICE-Gas driving is $', annual_cost_to_drive_ice)\n"
   ]
  },
  {
   "cell_type": "code",
   "execution_count": 184,
   "id": "db184143",
   "metadata": {},
   "outputs": [
    {
     "name": "stdout",
     "output_type": "stream",
     "text": [
      "The annual cost of ICE-Diesel driving is $ 16660.0\n"
     ]
    }
   ],
   "source": [
    "#cost to drive vehicle yearly ICE-F250 diesel\n",
    "annual_cost_to_drive_ice_diesel = diesel_price * ((yearly_distance / 100) * fuel_consumption_per_100km_diesel)\n",
    "print('The annual cost of ICE-Diesel driving is $', annual_cost_to_drive_ice_diesel)"
   ]
  },
  {
   "cell_type": "code",
   "execution_count": 185,
   "id": "fb89dc33",
   "metadata": {},
   "outputs": [
    {
     "name": "stdout",
     "output_type": "stream",
     "text": [
      "The annual cost of EV driving is $ 2142.0\n"
     ]
    }
   ],
   "source": [
    "#cost to drive vehicle yearly EV via efficiency\n",
    "annual_cost_to_drive_ev2 = kWh_cost * (ev_efficiency * (yearly_distance /  100.0))\n",
    "print('The annual cost of EV driving is $',annual_cost_to_drive_ev2)"
   ]
  },
  {
   "cell_type": "code",
   "execution_count": 186,
   "id": "91c17bb6",
   "metadata": {},
   "outputs": [
    {
     "name": "stdout",
     "output_type": "stream",
     "text": [
      "Range of ICE vehicle 99.42857142857143 km\n"
     ]
    }
   ],
   "source": [
    "#range of ICE vehicle\n",
    "range_of_ICE_vehicle = (vehicle_fuel_capacity * litres_per_100km) / fuel_consumption_per_100km\n",
    "print('Range of ICE vehicle', range_of_ICE_vehicle,'km')"
   ]
  },
  {
   "cell_type": "code",
   "execution_count": 187,
   "id": "ebc5657b",
   "metadata": {},
   "outputs": [
    {
     "name": "stdout",
     "output_type": "stream",
     "text": [
      "range_of_EV_vehiclekm 320.2614379084967 km\n"
     ]
    }
   ],
   "source": [
    "#range of EV vehicle\n",
    "range_of_EV_vehicle = (batterey_capacity / ev_efficiency) * kWh_per_100km\n",
    "print('range_of_EV_vehicle'  'km', range_of_EV_vehicle,'km')"
   ]
  },
  {
   "cell_type": "code",
   "execution_count": 188,
   "id": "051619ef",
   "metadata": {
    "scrolled": true
   },
   "outputs": [
    {
     "data": {
      "image/png": "[encoded data removed]",
      "text/plain": [
       "<Figure size 432x288 with 1 Axes>"
      ]
     },
     "metadata": {
      "needs_background": "light"
     },
     "output_type": "display_data"
    }
   ],
   "source": [
    "#first manual graph for F150\n",
    "import matplotlib.pyplot as plt\n",
    "  \n",
    "# x-coordinates of left sides of bars \n",
    "left = [1, 2, 3]\n",
    "  \n",
    "# heights of bars\n",
    "height = [annual_cost_to_drive_ev2, annual_cost_to_drive_ice, annual_cost_to_drive_ice_diesel]\n",
    "  \n",
    "# labels for bars\n",
    "tick_label = ['EV  $' + str(annual_cost_to_drive_ev2), 'ICE  $' + str(annual_cost_to_drive_ice),  'ICE-Diesel  $' + str(annual_cost_to_drive_ice_diesel)]\n",
    "  \n",
    "# plotting a bar chart\n",
    "plt.bar(left, height, tick_label = tick_label,\n",
    "        width = 0.8, color = ['green', 'red', 'black'])\n",
    "  \n",
    "# naming the x-axis\n",
    "plt.xlabel('EV vs ICE vs ICE-Diesel')\n",
    "# naming the y-axis\n",
    "plt.ylabel('Cost (Canadian dollars)')\n",
    "# plot title\n",
    "plt.title('Annual Energy Costs BC-50,000km')\n",
    "  \n",
    "# function to show the plot\n",
    "plt.show()"
   ]
  }
 ],
 "metadata": {
  "kernelspec": {
   "display_name": "Python 3 (ipykernel)",
   "language": "python",
   "name": "python3"
  },
  "language_info": {
   "codemirror_mode": {
    "name": "ipython",
    "version": 3
   },
   "file_extension": ".py",
   "mimetype": "text/x-python",
   "name": "python",
   "nbconvert_exporter": "python",
   "pygments_lexer": "ipython3",
   "version": "3.9.7"
  }
 },
 "nbformat": 4,
 "nbformat_minor": 5
}
